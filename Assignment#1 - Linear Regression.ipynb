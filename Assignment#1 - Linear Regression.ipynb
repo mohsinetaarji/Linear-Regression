  {
   "cell_type": "markdown",
   "metadata": {},
   "source": [
    "# Predicting the Amount of Money Spent on Insured Customers \n",
    "\n",
    "### For this assignment, we will be analyzing insured customers' data for an insurance company:\n",
    "**Based on a sample data that consists of the profile of insured customers, we want to be able to predict the dollar amount of money spent by the insurance company on insured customers.**"
   ]
  },
  {
   "cell_type": "markdown",
   "metadata": {},
   "source": [
    "### Insured ustomers' Data\n",
    "The insured customers' data is in a csv file. It has information sconsisting of:\n",
    "1. age\n",
    "2. sex (female, male)\n",
    "3. BMI\n",
    "4. Children\n",
    "5. Smoker (yes, no)\n",
    "6. Region (northeast, northwest, southeast, southwest])\n",
    "7. **expenses**\n",
    "\n",
    "The value we want to predict is **expenses**\n"
   ]
  },
  {
   "cell_type": "markdown",
   "metadata": {},
   "source": [
    "## 1. Import the Libraries:\n",
    "1. numpy\n",
    "2. matplotlib.pyplot\n",
    "3. pandas"
   ]
  },
  {
   "cell_type": "code",
   "execution_count": 4,
   "metadata": {},
   "outputs": [],
   "source": [
    "import numpy as np \n",
    "import matplotlib.pyplot as plt\n",
    "import pandas as pd"
   ]
  },
  {
   "cell_type": "markdown",
   "metadata": {},
   "source": [
    "## 2. Read the csv file: \"insurance.csv\""
   ]
  },
  {
   "cell_type": "code",
   "execution_count": 5,
   "metadata": {},
   "outputs": [],
   "source": [
    "df = pd.read_csv(\"insurance.csv\")\n"
   ]
  },
  {
   "cell_type": "markdown",
   "metadata": {},
   "source": [
    "## 3. Show a sample of the data (first 10 rows)"
   ]
  },
  {
   "cell_type": "code",
   "execution_count": 6,
   "metadata": {},
   "outputs": [
    {
     "data": {
      "text/html": [
       "<div>\n",
       "<style scoped>\n",
       "    .dataframe tbody tr th:only-of-type {\n",
       "        vertical-align: middle;\n",
       "    }\n",
       "\n",
       "    .dataframe tbody tr th {\n",
       "        vertical-align: top;\n",
       "    }\n",
       "\n",
       "    .dataframe thead th {\n",
       "        text-align: right;\n",
       "    }\n",
       "</style>\n",
       "<table border=\"1\" class=\"dataframe\">\n",
       "  <thead>\n",
       "    <tr style=\"text-align: right;\">\n",
       "      <th></th>\n",
       "      <th>age</th>\n",
       "      <th>sex</th>\n",
       "      <th>bmi</th>\n",
       "      <th>children</th>\n",
       "      <th>smoker</th>\n",
       "      <th>region</th>\n",
       "      <th>expenses</th>\n",
       "    </tr>\n",
       "  </thead>\n",
       "  <tbody>\n",
       "    <tr>\n",
       "      <th>0</th>\n",
       "      <td>19</td>\n",
       "      <td>female</td>\n",
       "      <td>27.9</td>\n",
       "      <td>0</td>\n",
       "      <td>yes</td>\n",
       "      <td>southwest</td>\n",
       "      <td>16884.92</td>\n",
       "    </tr>\n",
       "    <tr>\n",
       "      <th>1</th>\n",
       "      <td>18</td>\n",
       "      <td>male</td>\n",
       "      <td>33.8</td>\n",
       "      <td>1</td>\n",
       "      <td>no</td>\n",
       "      <td>southeast</td>\n",
       "      <td>1725.55</td>\n",
       "    </tr>\n",
       "    <tr>\n",
       "      <th>2</th>\n",
       "      <td>28</td>\n",
       "      <td>male</td>\n",
       "      <td>33.0</td>\n",
       "      <td>3</td>\n",
       "      <td>no</td>\n",
       "      <td>southeast</td>\n",
       "      <td>4449.46</td>\n",
       "    </tr>\n",
       "    <tr>\n",
       "      <th>3</th>\n",
       "      <td>33</td>\n",
       "      <td>male</td>\n",
       "      <td>22.7</td>\n",
       "      <td>0</td>\n",
       "      <td>no</td>\n",
       "      <td>northwest</td>\n",
       "      <td>21984.47</td>\n",
       "    </tr>\n",
       "    <tr>\n",
       "      <th>4</th>\n",
       "      <td>32</td>\n",
       "      <td>male</td>\n",
       "      <td>28.9</td>\n",
       "      <td>0</td>\n",
       "      <td>no</td>\n",
       "      <td>northwest</td>\n",
       "      <td>3866.86</td>\n",
       "    </tr>\n",
       "    <tr>\n",
       "      <th>5</th>\n",
       "      <td>31</td>\n",
       "      <td>female</td>\n",
       "      <td>25.7</td>\n",
       "      <td>0</td>\n",
       "      <td>no</td>\n",
       "      <td>southeast</td>\n",
       "      <td>3756.62</td>\n",
       "    </tr>\n",
       "    <tr>\n",
       "      <th>6</th>\n",
       "      <td>46</td>\n",
       "      <td>female</td>\n",
       "      <td>33.4</td>\n",
       "      <td>1</td>\n",
       "      <td>no</td>\n",
       "      <td>southeast</td>\n",
       "      <td>8240.59</td>\n",
       "    </tr>\n",
       "    <tr>\n",
       "      <th>7</th>\n",
       "      <td>37</td>\n",
       "      <td>female</td>\n",
       "      <td>27.7</td>\n",
       "      <td>3</td>\n",
       "      <td>no</td>\n",
       "      <td>northwest</td>\n",
       "      <td>7281.51</td>\n",
       "    </tr>\n",
       "    <tr>\n",
       "      <th>8</th>\n",
       "      <td>37</td>\n",
       "      <td>male</td>\n",
       "      <td>29.8</td>\n",
       "      <td>2</td>\n",
       "      <td>no</td>\n",
       "      <td>northeast</td>\n",
       "      <td>6406.41</td>\n",
       "    </tr>\n",
       "    <tr>\n",
       "      <th>9</th>\n",
       "      <td>60</td>\n",
       "      <td>female</td>\n",
       "      <td>25.8</td>\n",
       "      <td>0</td>\n",
       "      <td>no</td>\n",
       "      <td>northwest</td>\n",
       "      <td>28923.14</td>\n",
       "    </tr>\n",
       "  </tbody>\n",
       "</table>\n",
       "</div>"
      ],
      "text/plain": [
       "   age     sex   bmi  children smoker     region  expenses\n",
       "0   19  female  27.9         0    yes  southwest  16884.92\n",
       "1   18    male  33.8         1     no  southeast   1725.55\n",
       "2   28    male  33.0         3     no  southeast   4449.46\n",
       "3   33    male  22.7         0     no  northwest  21984.47\n",
       "4   32    male  28.9         0     no  northwest   3866.86\n",
       "5   31  female  25.7         0     no  southeast   3756.62\n",
       "6   46  female  33.4         1     no  southeast   8240.59\n",
       "7   37  female  27.7         3     no  northwest   7281.51\n",
       "8   37    male  29.8         2     no  northeast   6406.41\n",
       "9   60  female  25.8         0     no  northwest  28923.14"
      ]
     },
     "execution_count": 6,
     "metadata": {},
     "output_type": "execute_result"
    }
   ],
   "source": [
    "df.head(10)"
   ]
  },
  {
   "cell_type": "markdown",
   "metadata": {},
   "source": [
    "## 4. Show some statistics about the data"
   ]
  },
  {
   "cell_type": "code",
   "execution_count": 7,
   "metadata": {},
   "outputs": [
    {
     "data": {
      "text/html": [
       "<div>\n",
       "<style scoped>\n",
       "    .dataframe tbody tr th:only-of-type {\n",
       "        vertical-align: middle;\n",
       "    }\n",
       "\n",
       "    .dataframe tbody tr th {\n",
       "        vertical-align: top;\n",
       "    }\n",
       "\n",
       "    .dataframe thead th {\n",
       "        text-align: right;\n",
       "    }\n",
       "</style>\n",
       "<table border=\"1\" class=\"dataframe\">\n",
       "  <thead>\n",
       "    <tr style=\"text-align: right;\">\n",
       "      <th></th>\n",
       "      <th>age</th>\n",
       "      <th>bmi</th>\n",
       "      <th>children</th>\n",
       "      <th>expenses</th>\n",
       "    </tr>\n",
       "  </thead>\n",
       "  <tbody>\n",
       "    <tr>\n",
       "      <th>count</th>\n",
       "      <td>1338.000000</td>\n",
       "      <td>1338.000000</td>\n",
       "      <td>1338.000000</td>\n",
       "      <td>1338.000000</td>\n",
       "    </tr>\n",
       "    <tr>\n",
       "      <th>mean</th>\n",
       "      <td>39.207025</td>\n",
       "      <td>30.665471</td>\n",
       "      <td>1.094918</td>\n",
       "      <td>13270.422414</td>\n",
       "    </tr>\n",
       "    <tr>\n",
       "      <th>std</th>\n",
       "      <td>14.049960</td>\n",
       "      <td>6.098382</td>\n",
       "      <td>1.205493</td>\n",
       "      <td>12110.011240</td>\n",
       "    </tr>\n",
       "    <tr>\n",
       "      <th>min</th>\n",
       "      <td>18.000000</td>\n",
       "      <td>16.000000</td>\n",
       "      <td>0.000000</td>\n",
       "      <td>1121.870000</td>\n",
       "    </tr>\n",
       "    <tr>\n",
       "      <th>25%</th>\n",
       "      <td>27.000000</td>\n",
       "      <td>26.300000</td>\n",
       "      <td>0.000000</td>\n",
       "      <td>4740.287500</td>\n",
       "    </tr>\n",
       "    <tr>\n",
       "      <th>50%</th>\n",
       "      <td>39.000000</td>\n",
       "      <td>30.400000</td>\n",
       "      <td>1.000000</td>\n",
       "      <td>9382.030000</td>\n",
       "    </tr>\n",
       "    <tr>\n",
       "      <th>75%</th>\n",
       "      <td>51.000000</td>\n",
       "      <td>34.700000</td>\n",
       "      <td>2.000000</td>\n",
       "      <td>16639.915000</td>\n",
       "    </tr>\n",
       "    <tr>\n",
       "      <th>max</th>\n",
       "      <td>64.000000</td>\n",
       "      <td>53.100000</td>\n",
       "      <td>5.000000</td>\n",
       "      <td>63770.430000</td>\n",
       "    </tr>\n",
       "  </tbody>\n",
       "</table>\n",
       "</div>"
      ],
      "text/plain": [
       "               age          bmi     children      expenses\n",
       "count  1338.000000  1338.000000  1338.000000   1338.000000\n",
       "mean     39.207025    30.665471     1.094918  13270.422414\n",
       "std      14.049960     6.098382     1.205493  12110.011240\n",
       "min      18.000000    16.000000     0.000000   1121.870000\n",
       "25%      27.000000    26.300000     0.000000   4740.287500\n",
       "50%      39.000000    30.400000     1.000000   9382.030000\n",
       "75%      51.000000    34.700000     2.000000  16639.915000\n",
       "max      64.000000    53.100000     5.000000  63770.430000"
      ]
     },
     "execution_count": 7,
     "metadata": {},
     "output_type": "execute_result"
    }
   ],
   "source": [
    "df.describe()"
   ]
  },
  {
   "cell_type": "markdown",
   "metadata": {},
   "source": [
    "## 5. Show info about the data"
   ]
  },
  {
   "cell_type": "code",
   "execution_count": 8,
   "metadata": {},
   "outputs": [
    {
     "name": "stdout",
     "output_type": "stream",
     "text": [
      "<class 'pandas.core.frame.DataFrame'>\n",
      "RangeIndex: 1338 entries, 0 to 1337\n",
      "Data columns (total 7 columns):\n",
      "age         1338 non-null int64\n",
      "sex         1338 non-null object\n",
      "bmi         1338 non-null float64\n",
      "children    1338 non-null int64\n",
      "smoker      1338 non-null object\n",
      "region      1338 non-null object\n",
      "expenses    1338 non-null float64\n",
      "dtypes: float64(2), int64(2), object(3)\n",
      "memory usage: 73.2+ KB\n"
     ]
    }
   ],
   "source": [
    "df.info()"
   ]
  },
  {
   "cell_type": "markdown",
   "metadata": {},
   "source": [
    "## 6. Convert the columns with text data into numeric data"
   ]
  },
  {
   "cell_type": "code",
   "execution_count": 9,
   "metadata": {},
   "outputs": [
    {
     "data": {
      "text/html": [
       "<div>\n",
       "<style scoped>\n",
       "    .dataframe tbody tr th:only-of-type {\n",
       "        vertical-align: middle;\n",
       "    }\n",
       "\n",
       "    .dataframe tbody tr th {\n",
       "        vertical-align: top;\n",
       "    }\n",
       "\n",
       "    .dataframe thead th {\n",
       "        text-align: right;\n",
       "    }\n",
       "</style>\n",
       "<table border=\"1\" class=\"dataframe\">\n",
       "  <thead>\n",
       "    <tr style=\"text-align: right;\">\n",
       "      <th></th>\n",
       "      <th>age</th>\n",
       "      <th>sex</th>\n",
       "      <th>bmi</th>\n",
       "      <th>children</th>\n",
       "      <th>smoker</th>\n",
       "      <th>region</th>\n",
       "      <th>expenses</th>\n",
       "      <th>female</th>\n",
       "      <th>male</th>\n",
       "      <th>yes</th>\n",
       "      <th>no</th>\n",
       "      <th>southwest</th>\n",
       "      <th>northwest</th>\n",
       "      <th>southeast</th>\n",
       "      <th>northeast</th>\n",
       "    </tr>\n",
       "  </thead>\n",
       "  <tbody>\n",
       "    <tr>\n",
       "      <th>0</th>\n",
       "      <td>19</td>\n",
       "      <td>female</td>\n",
       "      <td>27.9</td>\n",
       "      <td>0</td>\n",
       "      <td>yes</td>\n",
       "      <td>southwest</td>\n",
       "      <td>16884.92</td>\n",
       "      <td>1</td>\n",
       "      <td>0</td>\n",
       "      <td>1</td>\n",
       "      <td>0</td>\n",
       "      <td>1</td>\n",
       "      <td>0</td>\n",
       "      <td>0</td>\n",
       "      <td>0</td>\n",
       "    </tr>\n",
       "    <tr>\n",
       "      <th>1</th>\n",
       "      <td>18</td>\n",
       "      <td>male</td>\n",
       "      <td>33.8</td>\n",
       "      <td>1</td>\n",
       "      <td>no</td>\n",
       "      <td>southeast</td>\n",
       "      <td>1725.55</td>\n",
       "      <td>0</td>\n",
       "      <td>1</td>\n",
       "      <td>0</td>\n",
       "      <td>1</td>\n",
       "      <td>0</td>\n",
       "      <td>0</td>\n",
       "      <td>1</td>\n",
       "      <td>0</td>\n",
       "    </tr>\n",
       "    <tr>\n",
       "      <th>2</th>\n",
       "      <td>28</td>\n",
       "      <td>male</td>\n",
       "      <td>33.0</td>\n",
       "      <td>3</td>\n",
       "      <td>no</td>\n",
       "      <td>southeast</td>\n",
       "      <td>4449.46</td>\n",
       "      <td>0</td>\n",
       "      <td>1</td>\n",
       "      <td>0</td>\n",
       "      <td>1</td>\n",
       "      <td>0</td>\n",
       "      <td>0</td>\n",
       "      <td>1</td>\n",
       "      <td>0</td>\n",
       "    </tr>\n",
       "    <tr>\n",
       "      <th>3</th>\n",
       "      <td>33</td>\n",
       "      <td>male</td>\n",
       "      <td>22.7</td>\n",
       "      <td>0</td>\n",
       "      <td>no</td>\n",
       "      <td>northwest</td>\n",
       "      <td>21984.47</td>\n",
       "      <td>0</td>\n",
       "      <td>1</td>\n",
       "      <td>0</td>\n",
       "      <td>1</td>\n",
       "      <td>0</td>\n",
       "      <td>1</td>\n",
       "      <td>0</td>\n",
       "      <td>0</td>\n",
       "    </tr>\n",
       "    <tr>\n",
       "      <th>4</th>\n",
       "      <td>32</td>\n",
       "      <td>male</td>\n",
       "      <td>28.9</td>\n",
       "      <td>0</td>\n",
       "      <td>no</td>\n",
       "      <td>northwest</td>\n",
       "      <td>3866.86</td>\n",
       "      <td>0</td>\n",
       "      <td>1</td>\n",
       "      <td>0</td>\n",
       "      <td>1</td>\n",
       "      <td>0</td>\n",
       "      <td>1</td>\n",
       "      <td>0</td>\n",
       "      <td>0</td>\n",
       "    </tr>\n",
       "    <tr>\n",
       "      <th>5</th>\n",
       "      <td>31</td>\n",
       "      <td>female</td>\n",
       "      <td>25.7</td>\n",
       "      <td>0</td>\n",
       "      <td>no</td>\n",
       "      <td>southeast</td>\n",
       "      <td>3756.62</td>\n",
       "      <td>1</td>\n",
       "      <td>0</td>\n",
       "      <td>0</td>\n",
       "      <td>1</td>\n",
       "      <td>0</td>\n",
       "      <td>0</td>\n",
       "      <td>1</td>\n",
       "      <td>0</td>\n",
       "    </tr>\n",
       "    <tr>\n",
       "      <th>6</th>\n",
       "      <td>46</td>\n",
       "      <td>female</td>\n",
       "      <td>33.4</td>\n",
       "      <td>1</td>\n",
       "      <td>no</td>\n",
       "      <td>southeast</td>\n",
       "      <td>8240.59</td>\n",
       "      <td>1</td>\n",
       "      <td>0</td>\n",
       "      <td>0</td>\n",
       "      <td>1</td>\n",
       "      <td>0</td>\n",
       "      <td>0</td>\n",
       "      <td>1</td>\n",
       "      <td>0</td>\n",
       "    </tr>\n",
       "    <tr>\n",
       "      <th>7</th>\n",
       "      <td>37</td>\n",
       "      <td>female</td>\n",
       "      <td>27.7</td>\n",
       "      <td>3</td>\n",
       "      <td>no</td>\n",
       "      <td>northwest</td>\n",
       "      <td>7281.51</td>\n",
       "      <td>1</td>\n",
       "      <td>0</td>\n",
       "      <td>0</td>\n",
       "      <td>1</td>\n",
       "      <td>0</td>\n",
       "      <td>1</td>\n",
       "      <td>0</td>\n",
       "      <td>0</td>\n",
       "    </tr>\n",
       "    <tr>\n",
       "      <th>8</th>\n",
       "      <td>37</td>\n",
       "      <td>male</td>\n",
       "      <td>29.8</td>\n",
       "      <td>2</td>\n",
       "      <td>no</td>\n",
       "      <td>northeast</td>\n",
       "      <td>6406.41</td>\n",
       "      <td>0</td>\n",
       "      <td>1</td>\n",
       "      <td>0</td>\n",
       "      <td>1</td>\n",
       "      <td>0</td>\n",
       "      <td>0</td>\n",
       "      <td>0</td>\n",
       "      <td>1</td>\n",
       "    </tr>\n",
       "    <tr>\n",
       "      <th>9</th>\n",
       "      <td>60</td>\n",
       "      <td>female</td>\n",
       "      <td>25.8</td>\n",
       "      <td>0</td>\n",
       "      <td>no</td>\n",
       "      <td>northwest</td>\n",
       "      <td>28923.14</td>\n",
       "      <td>1</td>\n",
       "      <td>0</td>\n",
       "      <td>0</td>\n",
       "      <td>1</td>\n",
       "      <td>0</td>\n",
       "      <td>1</td>\n",
       "      <td>0</td>\n",
       "      <td>0</td>\n",
       "    </tr>\n",
       "  </tbody>\n",
       "</table>\n",
       "</div>"
      ],
      "text/plain": [
       "   age     sex   bmi  children smoker     region  expenses  female  male  yes  \\\n",
       "0   19  female  27.9         0    yes  southwest  16884.92       1     0    1   \n",
       "1   18    male  33.8         1     no  southeast   1725.55       0     1    0   \n",
       "2   28    male  33.0         3     no  southeast   4449.46       0     1    0   \n",
       "3   33    male  22.7         0     no  northwest  21984.47       0     1    0   \n",
       "4   32    male  28.9         0     no  northwest   3866.86       0     1    0   \n",
       "5   31  female  25.7         0     no  southeast   3756.62       1     0    0   \n",
       "6   46  female  33.4         1     no  southeast   8240.59       1     0    0   \n",
       "7   37  female  27.7         3     no  northwest   7281.51       1     0    0   \n",
       "8   37    male  29.8         2     no  northeast   6406.41       0     1    0   \n",
       "9   60  female  25.8         0     no  northwest  28923.14       1     0    0   \n",
       "\n",
       "   no  southwest  northwest  southeast  northeast  \n",
       "0   0          1          0          0          0  \n",
       "1   1          0          0          1          0  \n",
       "2   1          0          0          1          0  \n",
       "3   1          0          1          0          0  \n",
       "4   1          0          1          0          0  \n",
       "5   1          0          0          1          0  \n",
       "6   1          0          0          1          0  \n",
       "7   1          0          1          0          0  \n",
       "8   1          0          0          0          1  \n",
       "9   1          0          1          0          0  "
      ]
     },
     "execution_count": 9,
     "metadata": {},
     "output_type": "execute_result"
    }
   ],
   "source": [
    "df[\"female\"]=df[\"sex\"]\n",
    "df[\"male\"]=df[\"sex\"]\n",
    "df[\"yes\"]=df[\"smoker\"]\n",
    "df[\"no\"]=df[\"smoker\"]\n",
    "df[\"southwest\"]=df[\"region\"]\n",
    "df[\"northwest\"]=df[\"region\"]\n",
    "df[\"southeast\"]=df[\"region\"]\n",
    "df[\"northeast\"]=df[\"region\"]\n",
    "df[\"female\"].replace([\"male\",\"female\"],[0,1],inplace=True)\n",
    "df[\"male\"].replace([\"male\",\"female\"],[1,0],inplace=True)\n",
    "df[\"yes\"].replace([\"yes\",\"no\"],[1,0],inplace=True)\n",
    "df[\"no\"].replace([\"yes\",\"no\"],[0,1],inplace=True)\n",
    "df[\"southwest\"].replace([\"southwest\",\"northwest\",\"southeast\",\"northeast\"],[1,0,0,0],inplace=True)\n",
    "df[\"northwest\"].replace([\"southwest\",\"northwest\",\"southeast\",\"northeast\"],[0,1,0,0],inplace=True)\n",
    "df[\"southeast\"].replace([\"southwest\",\"northwest\",\"southeast\",\"northeast\"],[0,0,1,0],inplace=True)\n",
    "df[\"northeast\"].replace([\"southwest\",\"northwest\",\"southeast\",\"northeast\"],[0,0,0,1],inplace=True)\n",
    "df.head(10)"
   ]
  },
  {
   "cell_type": "markdown",
   "metadata": {},
   "source": [
    "## 7. Based on this data, what looks to be the most correlated feature with \"Expenses\"? (Justify your answer)"
   ]
  },
  {
   "cell_type": "markdown",
   "metadata": {
    "collapsed": true
   },
   "source": [
    "\n",
    "the one who looks more in correlation with expenses is age because when age increase the expenses increase to and when its low expenses are less "
   ]
  },
  {
   "cell_type": "markdown",
   "metadata": {},
   "source": [
    "# 8. Refer to the customers features data by \"X\", and refer to the label feature (expenses) by \"y\" "
   ]
  },
  {
   "cell_type": "code",
   "execution_count": 10,
   "metadata": {},
   "outputs": [],
   "source": [
    "df.columns\n",
    "\n",
    "\n",
    "\n",
    "\n",
    "\n",
    "y = df['expenses']\n",
    "\n",
    "\n",
    "\n",
    "\n",
    "\n",
    "X = df[['age', 'bmi', 'children','female','male','yes','no','southwest','northwest','southeast','northeast']]"
   ]
  },
  {
   "cell_type": "markdown",
   "metadata": {},
   "source": [
    "# 9. Load the train_test_split function"
   ]
  },
  {
   "cell_type": "code",
   "execution_count": 32,
   "metadata": {},
   "outputs": [],
   "source": [
    "from sklearn.cross_validation import train_test_split\n"
   ]
  },
  {
   "cell_type": "markdown",
   "metadata": {},
   "source": [
    "## 10. Split the data into:\n",
    "1. a **training** data set, and\n",
    "2. a **test** data set. "
   ]
  },
  {
   "cell_type": "code",
   "execution_count": 33,
   "metadata": {},
   "outputs": [],
   "source": [
    "X_train, X_test, y_train, y_test = train_test_split(X, y, test_size=0.2, random_state=42)"
   ]
  },
  {
   "cell_type": "markdown",
   "metadata": {},
   "source": [
    "## 11. Import LinearRegression from sklearn.linear_model and create an instance of a LinearRegression() model named"
   ]
  },
  {
   "cell_type": "code",
   "execution_count": 34,
   "metadata": {},
   "outputs": [],
   "source": [
    "from sklearn.linear_model import LinearRegression\n",
    "\n"
   ]
  },
  {
   "cell_type": "markdown",
   "metadata": {},
   "source": [
    "## 12. Fit the model to the training data"
   ]
  },
  {
   "cell_type": "code",
   "execution_count": 35,
   "metadata": {},
   "outputs": [
    {
     "data": {
      "text/plain": [
       "LinearRegression(copy_X=True, fit_intercept=True, n_jobs=1, normalize=False)"
      ]
     },
     "execution_count": 35,
     "metadata": {},
     "output_type": "execute_result"
    }
   ],
   "source": [
    "lm = LinearRegression()\n",
    "lm.fit(X_train,y_train)\n"
   ]
  },
  {
   "cell_type": "markdown",
   "metadata": {},
   "source": [
    "## 13. Print the linear model's intercept and coefficients"
   ]
  },
  {
   "cell_type": "code",
   "execution_count": 36,
   "metadata": {},
   "outputs": [
    {
     "name": "stdout",
     "output_type": "stream",
     "text": [
      "Intercept: -580.4420894766336\n",
      "Coefficient [ 2.56955959e+02  3.37271473e+02  4.25641376e+02  9.25987035e+00\n",
      " -9.25987035e+00  1.18251562e+04 -1.18251562e+04 -3.49665935e+02\n",
      "  8.92504316e+01 -1.99148439e+02  4.59563943e+02]\n"
     ]
    }
   ],
   "source": [
    "print(\"Intercept:\", lm.intercept_)\n",
    "print('Coefficient', lm.coef_)\n"
   ]
  },
  {
   "cell_type": "markdown",
   "metadata": {},
   "source": [
    "## 14. Use the trained model to predict the test data set"
   ]
  },
  {
   "cell_type": "code",
   "execution_count": 37,
   "metadata": {},
   "outputs": [],
   "source": [
    "predictions = lm.predict(X_test)"
   ]
  },
  {
   "cell_type": "markdown",
   "metadata": {},
   "source": [
    "## 15. Create a scatterplot of the real test values versus the predicted values."
   ]
  },
  {
   "cell_type": "code",
   "execution_count": 38,
   "metadata": {},
   "outputs": [
    {
     "data": {
      "text/plain": [
       "Text(0,0.5,'Predicted values')"
      ]
     },
     "execution_count": 38,
     "metadata": {},
     "output_type": "execute_result"
    },
    {
     "data": {
      "image/png": "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\n",
      "text/plain": [
       "<Figure size 432x288 with 1 Axes>"
      ]
     },
     "metadata": {},
     "output_type": "display_data"
    }
   ],
   "source": [
    "plt.scatter(y_test,predictions)\n",
    "\n",
    "plt.xlabel('Y Test values')\n",
    "\n",
    "plt.ylabel('Predicted values')"
   ]
  },
  {
   "cell_type": "markdown",
   "metadata": {},
   "source": [
    "## 16. Calculate: \n",
    "1. the Mean Absolute Error, \n",
    "2. Mean Squared Error, and \n",
    "3. the Root Mean Squared Error."
   ]
  },
  {
   "cell_type": "code",
   "execution_count": 39,
   "metadata": {},
   "outputs": [
    {
     "name": "stdout",
     "output_type": "stream",
     "text": [
      "MAE 4181.561524000784\n",
      "MSE 33600065.355077825\n",
      "RMSE 5796.556335884076\n"
     ]
    }
   ],
   "source": [
    "from sklearn import metrics\n",
    "\n",
    "\n",
    "\n",
    "\n",
    "\n",
    "print ('MAE',metrics.mean_absolute_error(y_test,predictions))\n",
    "\n",
    "print ('MSE',metrics.mean_squared_error(y_test,predictions))\n",
    "\n",
    "print ('RMSE',np.sqrt(metrics.mean_squared_error(y_test,predictions)))\n",
    "\n",
    "\n"
   ]
  },
  {
   "cell_type": "markdown",
   "metadata": {},
   "source": [
    "## 17. Show a histogram of the difference between the actual and predicted value of the test data set."
   ]
  },
  {
   "cell_type": "code",
   "execution_count": 40,
   "metadata": {},
   "outputs": [
    {
     "data": {
      "image/png": "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\n",
      "text/plain": [
       "<Figure size 432x288 with 1 Axes>"
      ]
     },
     "metadata": {},
     "output_type": "display_data"
    }
   ],
   "source": [
    "\n",
    "plt.hist(y_test-predictions,bins=10)\n",
    "plt.show()\n"
   ]
  },
  {
   "cell_type": "markdown",
   "metadata": {},
   "source": [
    "## 18. Explain the meaning behind the coefficients of the model"
   ]
  },
  {
   "cell_type": "markdown",
   "metadata": {
    "collapsed": true
   },
   "source": [
    "coefficient adjust ouput based on the features\n",
    "y= w0+w1x1+w2x2+...wnxn\n",
    "with w0 is the intercept\n",
    "and w1, w2,... wn are the coeffecients"
   ]
  },
  {
   "cell_type": "markdown",
   "metadata": {},
   "source": [
    "## 19. Use your own implementation of the Gradient Descent to find the intercept and coeficients of the linear regression model"
   ]
  },
  {
   "cell_type": "code",
   "execution_count": 41,
   "metadata": {},
   "outputs": [
    {
     "name": "stdout",
     "output_type": "stream",
     "text": [
      "[[-4.19455654e+02]\n",
      " [ 2.57626654e+02]\n",
      " [ 3.37139068e+02]\n",
      " [ 4.84923958e+02]\n",
      " [-2.12149097e+02]\n",
      " [-2.08360934e+02]\n",
      " [ 1.12284358e+04]\n",
      " [-1.16489839e+04]\n",
      " [-5.24646597e+02]\n",
      " [-9.23943996e-01]\n",
      " [-3.13532176e+02]\n",
      " [ 4.16243135e+02]]\n"
     ]
    }
   ],
   "source": [
    "X_b = np.c_[np.ones((1338, 1)), X]\n",
    "\n",
    "alpha= 0.00001\n",
    "num_iterations = 1000000\n",
    "m=1338\n",
    "W = np.random.randn(12,1)\n",
    "\n",
    "\n",
    "y1=y.values\n",
    "\n",
    "y2=y1.reshape((1338,1))\n",
    "for iteration in range(num_iterations):\n",
    "    gradients = 1/m * X_b.T.dot(X_b.dot(W) - y2)\n",
    "    W = W - alpha * gradients\n",
    "print(W)\n",
    "\n",
    "\n",
    "\n"
   ]
  },
  {
   "cell_type": "markdown",
   "metadata": {},
   "source": [
    "## 20. Compare your results from #19 and #13"
   ]
  },
  {
   "cell_type": "code",
   "execution_count": 42,
   "metadata": {},
   "outputs": [
    {
     "name": "stdout",
     "output_type": "stream",
     "text": [
      "MAE: 4227.210196234295\n",
      "MSE: 33816515.747873336\n",
      "RMSE: 5815.196965526906\n"
     ]
    },
    {
     "data": {
      "text/plain": [
       "Text(0,0.5,'Predicted values')"
      ]
     },
     "execution_count": 42,
     "metadata": {},
     "output_type": "execute_result"
    },
    {
     "data": {
      "image/png": "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\n",
      "text/plain": [
       "<Figure size 432x288 with 1 Axes>"
      ]
     },
     "metadata": {},
     "output_type": "display_data"
    }
   ],
   "source": [
    "X_b2 = np.c_[np.ones((X_test.shape[0], 1)), X_test]\n",
    "predictions2 = X_b2.dot(W)\n",
    "print('MAE:', metrics.mean_absolute_error(y_test, predictions2))\n",
    "print('MSE:', metrics.mean_squared_error(y_test, predictions2))\n",
    "print('RMSE:', np.sqrt(metrics.mean_squared_error(y_test, predictions2)))\n",
    "\n",
    "plt.scatter(y_test,predictions2)\n",
    "\n",
    "plt.xlabel('Y Test values')\n",
    "\n",
    "plt.ylabel('Predicted values')"
   ]
  },
  {
   "cell_type": "markdown",
   "metadata": {},
   "source": [
    "the results are very close from each other, with the gradiend descent we to start changing the learning rate till we get that right results we 20% test and 80% the results are very close from each other."
   ]
  }
 ],
 "metadata": {
  "kernelspec": {
   "display_name": "Python 3",
   "language": "python",
   "name": "python3"
  },
  "language_info": {
   "codemirror_mode": {
    "name": "ipython",
    "version": 3
   },
   "file_extension": ".py",
   "mimetype": "text/x-python",
   "name": "python",
   "nbconvert_exporter": "python",
   "pygments_lexer": "ipython3",
   "version": "3.6.5"
  }
 },
 "nbformat": 4,
 "nbformat_minor": 2
}
